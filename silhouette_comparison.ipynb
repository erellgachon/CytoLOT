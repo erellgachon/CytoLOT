{
 "cells": [
  {
   "cell_type": "code",
   "execution_count": 1,
   "metadata": {},
   "outputs": [],
   "source": [
    "import pandas as pd\n",
    "import numpy as np\n",
    "import matplotlib.pyplot as plt\n",
    "import matplotlib.patches as mpatches\n",
    "from matplotlib.lines import Line2D\n",
    "from sklearn.metrics import silhouette_score"
   ]
  },
  {
   "cell_type": "code",
   "execution_count": 2,
   "metadata": {},
   "outputs": [],
   "source": [
    "hipc_df = pd.read_csv(\"./Data/hipc_df.csv\")\n",
    "N = len(hipc_df)\n",
    "labels = hipc_df['Label'].to_numpy()\n",
    "patient_labels =  hipc_df['Patient'].to_numpy()\n",
    "labs_labels = hipc_df[\"Lab\"].to_numpy()\n",
    "nb_clusters = 64"
   ]
  },
  {
   "cell_type": "markdown",
   "metadata": {},
   "source": [
    "# Before PCA"
   ]
  },
  {
   "cell_type": "code",
   "execution_count": 3,
   "metadata": {},
   "outputs": [
    {
     "name": "stdout",
     "output_type": "stream",
     "text": [
      "For K =  16  silhouette score for LinW2 Bary  Kmeans :  0.51\n",
      "For K =  32  silhouette score for LinW2 Bary  Kmeans :  0.42\n",
      "For K =  64  silhouette score for LinW2 Bary  Kmeans :  0.35\n",
      "For K =  128  silhouette score for LinW2 Bary  Kmeans :  0.31\n",
      "For K =  256  silhouette score for LinW2 Bary  Kmeans :  0.28\n",
      "For K =  512  silhouette score for LinW2 Bary  Kmeans :  0.27\n"
     ]
    }
   ],
   "source": [
    "for nb_clusters in [16,32,64,128,256,512] :\n",
    "    linW2_kmeans = np.load(\"./Results/linW2/linW2_W2bary_Kmeans_K\"+str(nb_clusters)+\".npy\")\n",
    "    print(\"For K = \",nb_clusters, \" silhouette score for LinW2 Bary  Kmeans : \", np.round(silhouette_score(linW2_kmeans, patient_labels),2))"
   ]
  },
  {
   "cell_type": "code",
   "execution_count": 4,
   "metadata": {},
   "outputs": [
    {
     "name": "stdout",
     "output_type": "stream",
     "text": [
      "For K =  16  silhouette score forlog ratio Compositional Kmeans :  0.47\n",
      "For K =  32  silhouette score forlog ratio Compositional Kmeans :  0.01\n",
      "For K =  64  silhouette score forlog ratio Compositional Kmeans :  0.05\n",
      "For K =  128  silhouette score forlog ratio Compositional Kmeans :  0.06\n",
      "For K =  256  silhouette score forlog ratio Compositional Kmeans :  0.05\n",
      "For K =  512  silhouette score forlog ratio Compositional Kmeans :  0.08\n"
     ]
    }
   ],
   "source": [
    "for K in [16,32,64,128,256,512] :\n",
    "    weights_kmeans = np.load(\"./Results/Compositional/lr_Kmeans_K\"+str(K)+\".npy\")\n",
    "    print(\"For K = \",K, \" silhouette score forlog ratio Compositional Kmeans : \", np.round(silhouette_score(weights_kmeans, patient_labels),2))"
   ]
  },
  {
   "cell_type": "code",
   "execution_count": 5,
   "metadata": {},
   "outputs": [
    {
     "name": "stdout",
     "output_type": "stream",
     "text": [
      "For sigma =  0.01  silhouette score for KME :  -0.01\n",
      "For sigma =  0.1  silhouette score for KME :  -0.01\n",
      "For sigma =  1  silhouette score for KME :  0.15\n",
      "For sigma =  5  silhouette score for KME :  -0.02\n",
      "For sigma =  10  silhouette score for KME :  -0.01\n",
      "For sigma =  50  silhouette score for KME :  -0.01\n",
      "For sigma =  3.6  silhouette score for KME :  -0.02\n"
     ]
    }
   ],
   "source": [
    "for sigma in [0.01,0.1,1,5,10,50,3.6] :\n",
    "    kme = np.load(\"./Results/KME/KME_s448_sigma\"+str(sigma)+\".npy\")\n",
    "    print(\"For sigma = \",sigma, \" silhouette score for KME : \", np.round(silhouette_score(kme, patient_labels),2))"
   ]
  },
  {
   "cell_type": "markdown",
   "metadata": {},
   "source": [
    "# After PCA"
   ]
  },
  {
   "cell_type": "code",
   "execution_count": 6,
   "metadata": {},
   "outputs": [
    {
     "name": "stdout",
     "output_type": "stream",
     "text": [
      "For K =  16  silhouette score for PCA LinW2 Kmeans :  0.82\n",
      "For K =  32  silhouette score for PCA LinW2 Kmeans :  0.84\n",
      "For K =  64  silhouette score for PCA LinW2 Kmeans :  0.8\n",
      "For K =  128  silhouette score for PCA LinW2 Kmeans :  0.83\n",
      "For K =  256  silhouette score for PCA LinW2 Kmeans :  0.71\n",
      "For K =  512  silhouette score for PCA LinW2 Kmeans :  0.62\n"
     ]
    }
   ],
   "source": [
    "for nb_clusters in [16,32,64,128,256,512] :\n",
    "    linW2_kmeans = np.load(\"./Results/PCA/pca_linW2_W2bary_Kmeans_K\"+str(nb_clusters)+\".npy\")\n",
    "    print(\"For K = \",nb_clusters, \" silhouette score for PCA LinW2 Kmeans : \", np.round(silhouette_score(linW2_kmeans, patient_labels),2))\n"
   ]
  },
  {
   "cell_type": "code",
   "execution_count": 7,
   "metadata": {},
   "outputs": [
    {
     "name": "stdout",
     "output_type": "stream",
     "text": [
      "For K =  16  silhouette score for PCA Compositional Kmeans :  0.66\n",
      "For K =  32  silhouette score for PCA Compositional Kmeans :  0.01\n",
      "For K =  64  silhouette score for PCA Compositional Kmeans :  -0.01\n",
      "For K =  128  silhouette score for PCA Compositional Kmeans :  -0.01\n",
      "For K =  256  silhouette score for PCA Compositional Kmeans :  -0.02\n",
      "For K =  512  silhouette score for PCA Compositional Kmeans :  0.08\n"
     ]
    }
   ],
   "source": [
    "for nb_clusters in [16,32,64,128,256,512] :\n",
    "    comp_kmeans = np.load(\"./Results/PCA/pca_weights_lr_Kmeans_K\"+str(nb_clusters)+\".npy\")\n",
    "    print(\"For K = \",nb_clusters, \" silhouette score for PCA Compositional Kmeans : \", np.round(silhouette_score(comp_kmeans, patient_labels),2))\n"
   ]
  },
  {
   "cell_type": "code",
   "execution_count": 8,
   "metadata": {},
   "outputs": [
    {
     "name": "stdout",
     "output_type": "stream",
     "text": [
      "For sigma =  0.01  silhouette score for PCA KME :  -0.11\n",
      "For sigma =  0.1  silhouette score for PCA KME :  -0.12\n",
      "For sigma =  1  silhouette score for PCA KME :  0.16\n",
      "For sigma =  5  silhouette score for PCA KME :  -0.05\n",
      "For sigma =  10  silhouette score for PCA KME :  -0.09\n",
      "For sigma =  50  silhouette score for PCA KME :  -0.09\n",
      "For sigma =  3.6  silhouette score for PCA KME :  0.05\n"
     ]
    }
   ],
   "source": [
    "for sigma in [0.01,0.1,1,5,10,50,3.6] :\n",
    "    kme_kmeans = np.load(\"./Results/PCA/pca_kme_s448_sigma\"+str(sigma)+\".npy\")\n",
    "    print(\"For sigma = \",sigma, \" silhouette score for PCA KME : \", np.round(silhouette_score(kme_kmeans, patient_labels),2))\n"
   ]
  },
  {
   "cell_type": "code",
   "execution_count": null,
   "metadata": {},
   "outputs": [],
   "source": []
  }
 ],
 "metadata": {
  "kernelspec": {
   "display_name": "Code",
   "language": "python",
   "name": "python3"
  },
  "language_info": {
   "codemirror_mode": {
    "name": "ipython",
    "version": 3
   },
   "file_extension": ".py",
   "mimetype": "text/x-python",
   "name": "python",
   "nbconvert_exporter": "python",
   "pygments_lexer": "ipython3",
   "version": "3.11.6"
  }
 },
 "nbformat": 4,
 "nbformat_minor": 2
}
