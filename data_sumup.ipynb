{
 "cells": [
  {
   "cell_type": "markdown",
   "metadata": {},
   "source": [
    "**Module import**"
   ]
  },
  {
   "cell_type": "code",
   "execution_count": 4,
   "metadata": {},
   "outputs": [],
   "source": [
    "import pandas as pd\n",
    "import numpy as np\n",
    "from datetime import datetime as dt\n",
    "\n",
    "#explore files\n",
    "import os\n",
    "import os.path"
   ]
  },
  {
   "cell_type": "code",
   "execution_count": 5,
   "metadata": {},
   "outputs": [],
   "source": [
    "labs = [\"W2\", \"D54\", \"FTV\", \"IU\", \"O0\", \"pw\", \"pM\"] #all different labs\n",
    "file_names = [labs[i]+\"_\"+str(j)+\"_values.csv\" for j in range(1,10) for i in range(len(labs))] #list of all files\n",
    "\n",
    "labels = [labs[i]+str(j) for j in range(1,10) for i in range(len(labs))] #for each file, label = lab + patient number\n",
    "lab_labels = [labs[i] for _ in range(1,10) for i in range(len(labs))]\n",
    "patient_labels = [str((j-1)//3+1) for j in range(1,10) for _ in range(len(labs))]\n",
    "\n",
    "N = len(file_names) #number of files (number of measures)"
   ]
  },
  {
   "cell_type": "code",
   "execution_count": 6,
   "metadata": {},
   "outputs": [],
   "source": [
    "hipc_df = pd.DataFrame(data={\"File\" : file_names, \"Label\" : labels, \"Patient\" : patient_labels, \"Lab\" : lab_labels})"
   ]
  },
  {
   "cell_type": "code",
   "execution_count": 7,
   "metadata": {},
   "outputs": [
    {
     "data": {
      "text/html": [
       "<div>\n",
       "<style scoped>\n",
       "    .dataframe tbody tr th:only-of-type {\n",
       "        vertical-align: middle;\n",
       "    }\n",
       "\n",
       "    .dataframe tbody tr th {\n",
       "        vertical-align: top;\n",
       "    }\n",
       "\n",
       "    .dataframe thead th {\n",
       "        text-align: right;\n",
       "    }\n",
       "</style>\n",
       "<table border=\"1\" class=\"dataframe\">\n",
       "  <thead>\n",
       "    <tr style=\"text-align: right;\">\n",
       "      <th></th>\n",
       "      <th>File</th>\n",
       "      <th>Label</th>\n",
       "      <th>Patient</th>\n",
       "      <th>Lab</th>\n",
       "    </tr>\n",
       "  </thead>\n",
       "  <tbody>\n",
       "    <tr>\n",
       "      <th>0</th>\n",
       "      <td>W2_1_values.csv</td>\n",
       "      <td>W21</td>\n",
       "      <td>1</td>\n",
       "      <td>W2</td>\n",
       "    </tr>\n",
       "    <tr>\n",
       "      <th>1</th>\n",
       "      <td>D54_1_values.csv</td>\n",
       "      <td>D541</td>\n",
       "      <td>1</td>\n",
       "      <td>D54</td>\n",
       "    </tr>\n",
       "    <tr>\n",
       "      <th>2</th>\n",
       "      <td>FTV_1_values.csv</td>\n",
       "      <td>FTV1</td>\n",
       "      <td>1</td>\n",
       "      <td>FTV</td>\n",
       "    </tr>\n",
       "    <tr>\n",
       "      <th>3</th>\n",
       "      <td>IU_1_values.csv</td>\n",
       "      <td>IU1</td>\n",
       "      <td>1</td>\n",
       "      <td>IU</td>\n",
       "    </tr>\n",
       "    <tr>\n",
       "      <th>4</th>\n",
       "      <td>O0_1_values.csv</td>\n",
       "      <td>O01</td>\n",
       "      <td>1</td>\n",
       "      <td>O0</td>\n",
       "    </tr>\n",
       "    <tr>\n",
       "      <th>...</th>\n",
       "      <td>...</td>\n",
       "      <td>...</td>\n",
       "      <td>...</td>\n",
       "      <td>...</td>\n",
       "    </tr>\n",
       "    <tr>\n",
       "      <th>58</th>\n",
       "      <td>FTV_9_values.csv</td>\n",
       "      <td>FTV9</td>\n",
       "      <td>3</td>\n",
       "      <td>FTV</td>\n",
       "    </tr>\n",
       "    <tr>\n",
       "      <th>59</th>\n",
       "      <td>IU_9_values.csv</td>\n",
       "      <td>IU9</td>\n",
       "      <td>3</td>\n",
       "      <td>IU</td>\n",
       "    </tr>\n",
       "    <tr>\n",
       "      <th>60</th>\n",
       "      <td>O0_9_values.csv</td>\n",
       "      <td>O09</td>\n",
       "      <td>3</td>\n",
       "      <td>O0</td>\n",
       "    </tr>\n",
       "    <tr>\n",
       "      <th>61</th>\n",
       "      <td>pw_9_values.csv</td>\n",
       "      <td>pw9</td>\n",
       "      <td>3</td>\n",
       "      <td>pw</td>\n",
       "    </tr>\n",
       "    <tr>\n",
       "      <th>62</th>\n",
       "      <td>pM_9_values.csv</td>\n",
       "      <td>pM9</td>\n",
       "      <td>3</td>\n",
       "      <td>pM</td>\n",
       "    </tr>\n",
       "  </tbody>\n",
       "</table>\n",
       "<p>63 rows × 4 columns</p>\n",
       "</div>"
      ],
      "text/plain": [
       "                File Label Patient  Lab\n",
       "0    W2_1_values.csv   W21       1   W2\n",
       "1   D54_1_values.csv  D541       1  D54\n",
       "2   FTV_1_values.csv  FTV1       1  FTV\n",
       "3    IU_1_values.csv   IU1       1   IU\n",
       "4    O0_1_values.csv   O01       1   O0\n",
       "..               ...   ...     ...  ...\n",
       "58  FTV_9_values.csv  FTV9       3  FTV\n",
       "59   IU_9_values.csv   IU9       3   IU\n",
       "60   O0_9_values.csv   O09       3   O0\n",
       "61   pw_9_values.csv   pw9       3   pw\n",
       "62   pM_9_values.csv   pM9       3   pM\n",
       "\n",
       "[63 rows x 4 columns]"
      ]
     },
     "execution_count": 7,
     "metadata": {},
     "output_type": "execute_result"
    }
   ],
   "source": [
    "hipc_df"
   ]
  },
  {
   "cell_type": "code",
   "execution_count": 8,
   "metadata": {},
   "outputs": [],
   "source": [
    "hipc_df.to_csv(\"./Data/hipc_df.csv\", index=False)"
   ]
  },
  {
   "cell_type": "code",
   "execution_count": null,
   "metadata": {},
   "outputs": [],
   "source": []
  }
 ],
 "metadata": {
  "kernelspec": {
   "display_name": "Code",
   "language": "python",
   "name": "python3"
  },
  "language_info": {
   "codemirror_mode": {
    "name": "ipython",
    "version": 3
   },
   "file_extension": ".py",
   "mimetype": "text/x-python",
   "name": "python",
   "nbconvert_exporter": "python",
   "pygments_lexer": "ipython3",
   "version": "3.11.6"
  }
 },
 "nbformat": 4,
 "nbformat_minor": 2
}
